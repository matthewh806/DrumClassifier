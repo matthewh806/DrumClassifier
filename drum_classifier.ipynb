{
 "cells": [
  {
   "cell_type": "code",
   "execution_count": 2,
   "metadata": {},
   "outputs": [],
   "source": [
    "import torch\n",
    "import torchaudio \n",
    "import os\n",
    "import librosa\n",
    "import matplotlib.pyplot as plt\n",
    "from torchaudio import transforms\n",
    "from IPython.display import Audio"
   ]
  },
  {
   "cell_type": "code",
   "execution_count": 1,
   "metadata": {},
   "outputs": [],
   "source": [
    "from classifier.audioutils import AudioUtils"
   ]
  },
  {
   "cell_type": "code",
   "execution_count": 10,
   "metadata": {},
   "outputs": [
    {
     "name": "stdout",
     "output_type": "stream",
     "text": [
      "Number of input files:  2244\n"
     ]
    }
   ],
   "source": [
    "# Load audio input data into map\n",
    "\n",
    "# NOTE: Assumes all samples are of the sample sample rate - if this is not the case add a method to AudioUtils to convert to 44100 (or whatever!)\n",
    "\n",
    "CURRENT_DIR = os.getcwd()\n",
    "AUDIO_DIR = os.path.join(CURRENT_DIR, \"audio_input\")\n",
    "\n",
    "# Scan AUDIO_DIR and load all filenames into a map with key - path, value - label (1-10, 1. kick, 2. snare, ... 10.cymbal)\n",
    "\n",
    "file_map = {}\n",
    "for subdir, dirs, files in os.walk(AUDIO_DIR):\n",
    "    for file in files:\n",
    "        if os.path.splitext(file)[-1] == \".wav\":\n",
    "            # get label for subdir\n",
    "            label = int(os.path.split(subdir)[-1].split(\"_\")[0])\n",
    "            path = os.path.join(subdir, file)\n",
    "            file_map[path] = label\n",
    "\n",
    "print(\"Number of input files: \", len(file_map))"
   ]
  },
  {
   "cell_type": "code",
   "execution_count": 11,
   "metadata": {},
   "outputs": [
    {
     "name": "stdout",
     "output_type": "stream",
     "text": [
      "Max Length: 341501 Average Length: 20734.03787878788 Sample Size:  20734\n"
     ]
    }
   ],
   "source": [
    "# Calculate the average length and use this to pad or truncate audio files to all be the same size\n",
    "max_length = 0\n",
    "lengths = []\n",
    "for key in file_map:\n",
    "    sig, sr = AudioUtils.open(key)\n",
    "    max_length = max(max_length, sig.shape[1])\n",
    "    lengths.append(sig.shape[1])\n",
    "\n",
    "average_length = sum(lengths) / len(file_map)\n",
    "desired_sample_len = int(average_length)\n",
    "\n",
    "print(\"Max Length:\", max_length, \"Average Length:\", average_length, \"Sample Size: \", desired_sample_len)\n"
   ]
  },
  {
   "cell_type": "code",
   "execution_count": 12,
   "metadata": {},
   "outputs": [],
   "source": [
    "# This is basically just testing each of the transformation methods\n",
    "for key in file_map:\n",
    "    sig, sr = AudioUtils.open(key)\n",
    "    sig = AudioUtils.convert_mono(sig)\n",
    "    sig = AudioUtils.resize(sig, desired_sample_len)"
   ]
  }
 ],
 "metadata": {
  "kernelspec": {
   "display_name": "Python 3",
   "language": "python",
   "name": "python3"
  },
  "language_info": {
   "codemirror_mode": {
    "name": "ipython",
    "version": 3
   },
   "file_extension": ".py",
   "mimetype": "text/x-python",
   "name": "python",
   "nbconvert_exporter": "python",
   "pygments_lexer": "ipython3",
   "version": "3.11.3"
  },
  "orig_nbformat": 4
 },
 "nbformat": 4,
 "nbformat_minor": 2
}
