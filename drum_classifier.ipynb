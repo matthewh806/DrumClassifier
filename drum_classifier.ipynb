{
 "cells": [
  {
   "cell_type": "code",
   "execution_count": 1,
   "metadata": {},
   "outputs": [],
   "source": [
    "import os\n",
    "import librosa\n",
    "import matplotlib.pyplot as plt\n",
    "import torch\n",
    "import torchaudio \n",
    "from torchaudio import transforms\n",
    "from torch.utils.data import random_split\n",
    "from IPython.display import Audio"
   ]
  },
  {
   "cell_type": "code",
   "execution_count": 2,
   "metadata": {},
   "outputs": [],
   "source": [
    "from classifier.audioutils import AudioUtils\n",
    "from classifier.sounddataset import SoundDataset"
   ]
  },
  {
   "cell_type": "code",
   "execution_count": 3,
   "metadata": {},
   "outputs": [
    {
     "name": "stdout",
     "output_type": "stream",
     "text": [
      "Number of input files:  2244\n"
     ]
    }
   ],
   "source": [
    "# Load audio input data into map\n",
    "\n",
    "# NOTE: Assumes all samples are of the sample sample rate - if this is not the case add a method to AudioUtils to convert to 44100 (or whatever!)\n",
    "\n",
    "CURRENT_DIR = os.getcwd()\n",
    "AUDIO_DIR = os.path.join(CURRENT_DIR, \"audio_input\")\n",
    "\n",
    "# Scan AUDIO_DIR and load all filenames into a map with key - path, value - label (1-10, 1. kick, 2. snare, ... 10.cymbal)\n",
    "\n",
    "audio_datas = []\n",
    "for subdir, dirs, files in os.walk(AUDIO_DIR):\n",
    "    for file in files:\n",
    "        if os.path.splitext(file)[-1] == \".wav\":\n",
    "            # get label for subdir\n",
    "            label = int(os.path.split(subdir)[-1].split(\"_\")[0])\n",
    "            path = os.path.join(subdir, file)\n",
    "            audio_datas.append((path, label))\n",
    "\n",
    "print(\"Number of input files: \", len(audio_datas))"
   ]
  },
  {
   "cell_type": "code",
   "execution_count": 4,
   "metadata": {},
   "outputs": [
    {
     "name": "stdout",
     "output_type": "stream",
     "text": [
      "Max Length: 341501 Average Length: 20734.03787878788 Sample Size: 20734\n"
     ]
    }
   ],
   "source": [
    "# Calculate the average length and use this to pad or truncate audio files to all be the same size\n",
    "max_length = 0\n",
    "lengths = []\n",
    "for audio_data in audio_datas:\n",
    "    sig, sr = AudioUtils.open(audio_data[0])\n",
    "    max_length = max(max_length, sig.shape[1])\n",
    "    lengths.append(sig.shape[1])\n",
    "\n",
    "average_length = sum(lengths) / len(audio_datas)\n",
    "desired_sample_len = int(average_length)\n",
    "\n",
    "print(\"Max Length:\", max_length, \"Average Length:\", average_length, \"Sample Size:\", desired_sample_len)\n"
   ]
  },
  {
   "cell_type": "code",
   "execution_count": 5,
   "metadata": {},
   "outputs": [],
   "source": [
    "# Create SoundDataset\n",
    "audio_dataset = SoundDataset(audio_datas, 1, desired_sample_len)\n",
    "\n",
    "# Random split 80:20 between training and validation\n",
    "num_items = len(audio_dataset)\n",
    "num_train = round(num_items * 0.8)\n",
    "num_validate = num_items - num_train\n",
    "train_ds, val_ds = random_split(audio_datas, [num_train, num_validate])\n",
    "\n",
    "# Create data loaders for training and validation\n",
    "train_dl = torch.utils.data.DataLoader(train_ds, batch_size=16, shuffle=True)\n",
    "validation_dl = torch.utils.data.DataLoader(val_ds, batch_size=16, shuffle=False)\n"
   ]
  }
 ],
 "metadata": {
  "kernelspec": {
   "display_name": "Python 3",
   "language": "python",
   "name": "python3"
  },
  "language_info": {
   "codemirror_mode": {
    "name": "ipython",
    "version": 3
   },
   "file_extension": ".py",
   "mimetype": "text/x-python",
   "name": "python",
   "nbconvert_exporter": "python",
   "pygments_lexer": "ipython3",
   "version": "3.11.3"
  },
  "orig_nbformat": 4
 },
 "nbformat": 4,
 "nbformat_minor": 2
}
